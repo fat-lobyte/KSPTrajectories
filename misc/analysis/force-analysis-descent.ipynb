{
 "cells": [
  {
   "cell_type": "code",
   "execution_count": null,
   "metadata": {
    "collapsed": true
   },
   "outputs": [],
   "source": [
    "import os\n",
    "import pandas as pd\n",
    "import numpy as np\n",
    "import matplotlib.pyplot as plt"
   ]
  },
  {
   "cell_type": "code",
   "execution_count": null,
   "metadata": {
    "collapsed": true
   },
   "outputs": [],
   "source": [
    "# nice, interactive plotting.\n",
    "%matplotlib notebook"
   ]
  },
  {
   "cell_type": "code",
   "execution_count": null,
   "metadata": {
    "collapsed": true
   },
   "outputs": [],
   "source": [
    "# if KSPDIR is set, load the telemetry file from the game directory. Otherwise, load from current directory\n",
    "if \"KSPDIR\" in os.environ:\n",
    "    telemetry_file = os.path.join(os.environ[\"KSPDIR\"], r\"GameData\\Telemetry\\Trajectories.csv\")\n",
    "else:\n",
    "    telemetry_file = \"Trajectories.csv\""
   ]
  },
  {
   "cell_type": "code",
   "execution_count": null,
   "metadata": {
    "collapsed": true
   },
   "outputs": [],
   "source": [
    "data = pd.read_csv(telemetry_file, sep='\\t')\n",
    "data.fillna(method=\"ffill\", inplace=True) # fill everything we can with the previous value"
   ]
  },
  {
   "cell_type": "code",
   "execution_count": null,
   "metadata": {
    "collapsed": true
   },
   "outputs": [],
   "source": [
    "# shift time axis to start with 0\n",
    "data[\"ut\"] -= data[\"ut\"][0]"
   ]
  },
  {
   "cell_type": "code",
   "execution_count": null,
   "metadata": {
    "collapsed": true
   },
   "outputs": [],
   "source": [
    "data.set_index(\"ut\", inplace=True)"
   ]
  },
  {
   "cell_type": "code",
   "execution_count": null,
   "metadata": {},
   "outputs": [],
   "source": [
    "# show all channels for a summary\n",
    "data.plot(subplots=True, title=\"Telemetry\");"
   ]
  },
  {
   "cell_type": "code",
   "execution_count": null,
   "metadata": {
    "collapsed": true
   },
   "outputs": [],
   "source": [
    "# trim data\n",
    "# We want the data in the atmosphere, so we clip everything where the air temperature is <= 4K and the altitude is too small\n",
    "d = data[((data[\"temperature\"] > 4) & (data[\"altitude\"] > 1000))]"
   ]
  },
  {
   "cell_type": "code",
   "execution_count": null,
   "metadata": {
    "collapsed": true
   },
   "outputs": [],
   "source": [
    "# Run this for only High-Altitude Data\n",
    "d = data[data[\"altitude\"].between(50000, 70000)]"
   ]
  },
  {
   "cell_type": "markdown",
   "metadata": {},
   "source": [
    "## Angle of Attack"
   ]
  },
  {
   "cell_type": "code",
   "execution_count": null,
   "metadata": {},
   "outputs": [],
   "source": [
    "plt.figure();\n",
    "aoa_dev = 180 - np.abs(d[\"aoa\"])\n",
    "plt.plot(aoa_dev)\n",
    "plt.ylabel(\"AoA deviation [°]\")\n",
    "plt.xlabel(\"ut [s]\")\n",
    "plt.title(\"Deviation from Retrograde\");\n",
    "# plt.ylim([0.0, 0.1])\n",
    "plt.show();"
   ]
  },
  {
   "cell_type": "code",
   "execution_count": null,
   "metadata": {},
   "outputs": [],
   "source": [
    "np.min(d[\"force_actual\"])"
   ]
  },
  {
   "cell_type": "markdown",
   "metadata": {},
   "source": [
    "## Forces"
   ]
  },
  {
   "cell_type": "code",
   "execution_count": null,
   "metadata": {},
   "outputs": [],
   "source": [
    "# plt.figure();\n",
    "ax = (d[[\"force_actual\", \"force_predicted\"]]).plot()\n",
    "ax.set_ylabel(\"force [kN]\");\n",
    "ax = d[\"altitude\"].plot(ax=ax, secondary_y=True, legend=True)\n",
    "ax.set_ylabel(\"Altitude [m]\")\n",
    "plt.xlabel(\"ut [s]\")\n",
    "plt.xlim([d.index[0], d.index[-1]])\n",
    "plt.title(\"Forces actual/predicted overview\");\n",
    "plt.show();"
   ]
  },
  {
   "cell_type": "code",
   "execution_count": null,
   "metadata": {},
   "outputs": [],
   "source": [
    "plt.figure();\n",
    "ax = (d[\"force_predicted\"] - d[\"force_actual\"]).rename(\"Force difference\").plot(legend=True)\n",
    "plt.ylabel(\"Force difference [kN]\")\n",
    "# ax.set_ylim([0.0, 2])\n",
    "ax.axhline(y=0.0, color='r', linestyle='--')\n",
    "ax = d[\"altitude\"].plot(ax=ax, secondary_y=True, legend=True)\n",
    "ax.set_ylabel(\"Altitude [m]\")\n",
    "plt.xlabel(\"ut [s]\")\n",
    "plt.xlim([d.index[0], d.index[-1]])\n",
    "plt.title(\"Force prediction - actual difference\");\n",
    "plt.show();"
   ]
  },
  {
   "cell_type": "code",
   "execution_count": null,
   "metadata": {
    "collapsed": true
   },
   "outputs": [],
   "source": [
    "plt.figure();\n",
    "ax = (d[\"force_predicted\"] / d[\"force_actual\"]).rename(\"Force ratio\").plot(legend=True)\n",
    "plt.ylabel(\"Force ratio [-]\")\n",
    "# ax.set_ylim([0.0, 2])\n",
    "ax.axhline(y=1.0, color='r', linestyle='--')\n",
    "ax = d[\"altitude\"].plot(ax=ax, secondary_y=True, legend=True)\n",
    "ax.set_ylabel(\"Altitude [m]\")\n",
    "plt.xlabel(\"ut [s]\")\n",
    "plt.xlim([d.index[0], d.index[-1]])\n",
    "plt.title(\"Force prediction/actual ratio\");\n",
    "plt.show();"
   ]
  },
  {
   "cell_type": "code",
   "execution_count": null,
   "metadata": {
    "collapsed": true,
    "scrolled": false
   },
   "outputs": [],
   "source": [
    "plt.figure();\n",
    "ax = ((d[\"force_predicted\"] - d[\"force_actual\"])/d[\"force_actual\"]).rename(\"Rel. Force ratio\").plot(legend=True)\n",
    "ax.set_ylabel(\"Force difference [-]\")\n",
    "ax.axhline(y=0.0, color='r', linestyle='--')\n",
    "ax = d[\"altitude\"].plot(ax=ax, secondary_y=True, legend=True)\n",
    "ax.set_ylabel(\"Altitude [m]\")\n",
    "plt.xlabel(\"ut [s]\")\n",
    "plt.xlim([d.index[0], d.index[-1]])\n",
    "plt.title(\"Relative force difference between predicted and actual\");\n",
    "plt.show();"
   ]
  },
  {
   "cell_type": "code",
   "execution_count": null,
   "metadata": {
    "collapsed": true
   },
   "outputs": [],
   "source": [
    "if set([\"force_predicted.x\", \"force_predicted.y\", \"force_predicted.z\", \"force_actual.x\", \"force_actual.y\", \"force_actual.z\"]).issubset(data.columns):\n",
    "    predicted_force = d[[\"force_predicted.x\", \"force_predicted.y\", \"force_predicted.z\"]].values\n",
    "    actual_force = d[[\"force_predicted.x\", \"force_predicted.y\", \"force_predicted.z\"]].values\n",
    "    angles_rad = np.arccos(np.clip(np.matmul(predicted_force, actual_force.T).diagonal() / (np.linalg.norm(predicted_force, axis=1) * np.linalg.norm(actual_force, axis=1)), -1, 1))\n",
    "    \n",
    "    plt.figure();\n",
    "    plt.plot(d.index.values, angles_rad*180/np.pi)\n",
    "    plt.ticklabel_format(style='sci', axis='y', scilimits=(0,0))\n",
    "    plt.xlabel(\"ut [s]\")\n",
    "    plt.ylabel(\"Angle between forces[°]\")\n",
    "    plt.xlim([d.index[0], d.index[-1]])\n",
    "    plt.title(\"Angle between predicted and actual forces\");\n",
    "    plt.show();"
   ]
  },
  {
   "cell_type": "code",
   "execution_count": null,
   "metadata": {
    "collapsed": true
   },
   "outputs": [],
   "source": [
    "# Average angle between predicted and actual\n",
    "np.mean(angles_rad) * 180/np.pi"
   ]
  },
  {
   "cell_type": "markdown",
   "metadata": {},
   "source": [
    "# Density"
   ]
  },
  {
   "cell_type": "code",
   "execution_count": null,
   "metadata": {
    "collapsed": true
   },
   "outputs": [],
   "source": [
    "plt.figure();\n",
    "ax = ((d[\"density_calc\"] - d[\"density\"])/d[\"density\"] * 100).rename(\"Relative density difference\").plot(legend=True)\n",
    "ax.set_ylabel(\"density difference [%]\")\n",
    "ax.axhline(y=0.0, color='r', linestyle='--')\n",
    "ax = d[\"altitude\"].plot(ax=ax, secondary_y=True, legend=True)\n",
    "ax.set_ylabel(\"Altitude [m]\")\n",
    "plt.xlabel(\"ut [s]\")\n",
    "plt.xlim([d.index[0], d.index[-1]])\n",
    "plt.title(\"Relative density difference between predicted and actual\");\n",
    "plt.show();"
   ]
  },
  {
   "cell_type": "code",
   "execution_count": null,
   "metadata": {
    "collapsed": true
   },
   "outputs": [],
   "source": [
    "plt.figure();\n",
    "ax = ((d[\"density_calc_precise\"] - d[\"density\"])/d[\"density\"] * 100).rename(\"Relative density difference\").plot(legend=True)\n",
    "ax.set_ylabel(\"density difference [%]\")\n",
    "ax.axhline(y=0.0, color='r', linestyle='--')\n",
    "ax = d[\"altitude\"].plot(ax=ax, secondary_y=True, legend=True)\n",
    "ax.set_ylabel(\"Altitude [m]\")\n",
    "plt.xlabel(\"ut [s]\")\n",
    "plt.xlim([d.index[0], d.index[-1]])\n",
    "plt.title(\"Relative density difference between predicted_precise and actual\");\n",
    "plt.show();"
   ]
  },
  {
   "cell_type": "code",
   "execution_count": null,
   "metadata": {
    "collapsed": true
   },
   "outputs": [],
   "source": [
    "plt.figure();\n",
    "ax = ((d[\"density_calc_precise\"] - d[\"density\"])/d[\"density\"] * 100).rename(\"Relative density difference\").plot(legend=True)\n",
    "ax.set_ylabel(\"density difference [%]\")\n",
    "ax = (d[\"force_predicted\"] - d[\"force_actual\"]).rename(\"Force difference\").plot(legend=True, secondary_y=True)\n",
    "ax.set_ylabel(\"Force Difference [kN]\")\n",
    "plt.xlabel(\"ut [s]\")\n",
    "plt.xlim([d.index[0], d.index[-1]])\n",
    "plt.title(\"Relative density difference between predicted_precise and actual\");\n",
    "plt.show();"
   ]
  },
  {
   "cell_type": "code",
   "execution_count": null,
   "metadata": {
    "collapsed": true,
    "scrolled": false
   },
   "outputs": [],
   "source": [
    "plt.figure();\n",
    "ax = ((d[\"temperature_calc\"] - d[\"temperature\"])/d[\"temperature\"] * 100).rename(\"Relative temperature difference\").plot(legend=True)\n",
    "ax.set_ylabel(\"temperature difference [%]\")\n",
    "ax.axhline(y=0.0, color='r', linestyle='--')\n",
    "ax = d[\"altitude\"].plot(ax=ax, secondary_y=True, legend=True)\n",
    "ax.set_ylabel(\"Altitude [m]\")\n",
    "plt.xlabel(\"ut [s]\")\n",
    "plt.xlim([d.index[0], d.index[-1]])\n",
    "plt.title(\"Relative temperature difference between predicted and actual\");\n",
    "plt.show();"
   ]
  },
  {
   "cell_type": "code",
   "execution_count": null,
   "metadata": {
    "collapsed": true
   },
   "outputs": [],
   "source": []
  }
 ],
 "metadata": {
  "kernelspec": {
   "display_name": "Python 3",
   "language": "python",
   "name": "python3"
  },
  "language_info": {
   "codemirror_mode": {
    "name": "ipython",
    "version": 3
   },
   "file_extension": ".py",
   "mimetype": "text/x-python",
   "name": "python",
   "nbconvert_exporter": "python",
   "pygments_lexer": "ipython3",
   "version": "3.6.1"
  }
 },
 "nbformat": 4,
 "nbformat_minor": 2
}
